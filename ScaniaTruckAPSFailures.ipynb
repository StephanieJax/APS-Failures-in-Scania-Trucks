{
  "nbformat": 4,
  "nbformat_minor": 0,
  "metadata": {
    "colab": {
      "name": "ScaniaTruckAPSFailures.ipynb",
      "provenance": [],
      "collapsed_sections": [],
      "include_colab_link": true
    },
    "kernelspec": {
      "name": "python3",
      "display_name": "Python 3"
    },
    "language_info": {
      "name": "python"
    },
    "accelerator": "GPU"
  },
  "cells": [
    {
      "cell_type": "markdown",
      "metadata": {
        "id": "view-in-github",
        "colab_type": "text"
      },
      "source": [
        "<a href=\"https://colab.research.google.com/github/StephanieJax/readme-edits/blob/readme-edits/ScaniaTruckAPSFailures.ipynb\" target=\"_parent\"><img src=\"https://colab.research.google.com/assets/colab-badge.svg\" alt=\"Open In Colab\"/></a>"
      ]
    },
    {
      "cell_type": "markdown",
      "metadata": {
        "id": "xLpc4xsHh8YE"
      },
      "source": [
        "Created by: Stephanie Jax\n",
        "CS4347 Spring 2021 \n",
        "\n"
      ]
    },
    {
      "cell_type": "code",
      "metadata": {
        "colab": {
          "base_uri": "https://localhost:8080/"
        },
        "id": "5bkDkXwRifeb",
        "outputId": "0eee6629-2728-4b8d-beb2-36dbe18ce0db"
      },
      "source": [
        "# Get data from Google Drive\n",
        "from google.colab import drive\n",
        "drive.mount('/content/drive')\n",
        "!cp /content/drive/MyDrive/ScaniaTrucks/* ./"
      ],
      "execution_count": null,
      "outputs": [
        {
          "output_type": "stream",
          "text": [
            "Mounted at /content/drive\n"
          ],
          "name": "stdout"
        }
      ]
    },
    {
      "cell_type": "code",
      "metadata": {
        "id": "0bWC78S9lKhc"
      },
      "source": [
        ""
      ],
      "execution_count": null,
      "outputs": []
    },
    {
      "cell_type": "code",
      "metadata": {
        "colab": {
          "base_uri": "https://localhost:8080/"
        },
        "id": "HQRmGQ8WjSsc",
        "outputId": "800b6fac-6f5c-4643-acac-b00889cb83c7"
      },
      "source": [
        "#Check data\n",
        "!ls"
      ],
      "execution_count": null,
      "outputs": [
        {
          "output_type": "stream",
          "text": [
            "aps_failure_description.txt  aps_failure_training_set.csv  sample_data\n",
            "aps_failure_test_set.csv     drive\n"
          ],
          "name": "stdout"
        }
      ]
    },
    {
      "cell_type": "code",
      "metadata": {
        "id": "6H-PRX8LsBOR",
        "colab": {
          "base_uri": "https://localhost:8080/"
        },
        "outputId": "0d69fd23-59b4-4e6d-fd53-14c647ed4f49"
      },
      "source": [
        "# Imports\n",
        "import pandas as pd\n",
        "import numpy as np\n",
        "import graphviz\n",
        "from imblearn.pipeline import Pipeline\n",
        "from imblearn.over_sampling import SMOTE\n",
        "from sklearn.model_selection import RandomizedSearchCV\n",
        "from sklearn.tree import export_graphviz\n",
        "from sklearn.impute import SimpleImputer\n",
        "from sklearn.ensemble import RandomForestClassifier\n",
        "from sklearn.calibration import CalibratedClassifierCV\n",
        "from sklearn.metrics import mean_squared_error, confusion_matrix\n",
        "from sklearn.metrics import precision_score, recall_score, f1_score, roc_curve, auc\n",
        "from sklearn.neighbors import KNeighborsClassifier\n",
        "import matplotlib.pyplot as plt"
      ],
      "execution_count": null,
      "outputs": [
        {
          "output_type": "stream",
          "text": [
            "/usr/local/lib/python3.7/dist-packages/sklearn/externals/six.py:31: FutureWarning: The module is deprecated in version 0.21 and will be removed in version 0.23 since we've dropped support for Python 2.7. Please rely on the official version of six (https://pypi.org/project/six/).\n",
            "  \"(https://pypi.org/project/six/).\", FutureWarning)\n",
            "/usr/local/lib/python3.7/dist-packages/sklearn/utils/deprecation.py:144: FutureWarning: The sklearn.neighbors.base module is  deprecated in version 0.22 and will be removed in version 0.24. The corresponding classes / functions should instead be imported from sklearn.neighbors. Anything that cannot be imported from sklearn.neighbors is now part of the private API.\n",
            "  warnings.warn(message, FutureWarning)\n"
          ],
          "name": "stderr"
        }
      ]
    },
    {
      "cell_type": "code",
      "metadata": {
        "id": "jmgbSZq3jkRr",
        "colab": {
          "base_uri": "https://localhost:8080/"
        },
        "outputId": "340ca491-68a4-4fcf-c256-7296d8b3502f"
      },
      "source": [
        "# Organizing/Cleaning Training Data\n",
        "aps_failure_training_set = \"aps_failure_training_set.csv\"\n",
        "train_df = pd.read_csv(aps_failure_training_set)\n",
        "\n",
        "# Print the head/tail of the data to make sure it was imported properly\n",
        "print(\"Original data before any changes were made:\\n\")\n",
        "print(train_df.head())\n",
        "print(train_df.tail())\n",
        "print(\"--------------------------------------------\\n\")\n",
        "\n",
        "# Replace 'na' values, which Pandas did not recognize as true NA values, with numpy \"NaN\" values\n",
        "# This allows the .isna method to work properly and, as a result, the .dropna method to work as well.\n",
        "train_df.replace('na', np.nan, inplace=True)\n",
        "\n",
        "# Replace \"neg\" and \"pos\" with corresponding boolean values\n",
        "train_df.replace('neg', 0, inplace=True)\n",
        "train_df.replace('pos', 1, inplace=True)\n",
        "\n",
        "# Print the head/tail of the data to confirm the changes\n",
        "print(\"Data after converting class strings to numerical boolean values:\\n\")\n",
        "print(train_df.head())\n",
        "print(train_df.tail())\n",
        "print(\"--------------------------------------------\\n\")\n"
      ],
      "execution_count": null,
      "outputs": [
        {
          "output_type": "stream",
          "text": [
            "Original data before any changes were made:\n",
            "\n",
            "  class  aa_000 ab_000      ac_000 ad_000  ...  ee_007  ee_008 ee_009 ef_000 eg_000\n",
            "0   neg   76698     na  2130706438    280  ...  157956   73224      0      0      0\n",
            "1   neg   33058     na           0     na  ...   81140   97576   1500      0      0\n",
            "2   neg   41040     na         228    100  ...  158022   95128    514      0      0\n",
            "3   neg      12      0          70     66  ...       0       0      0      4     32\n",
            "4   neg   60874     na        1368    458  ...  311560  433954   1218      0      0\n",
            "\n",
            "[5 rows x 171 columns]\n",
            "      class  aa_000 ab_000      ac_000  ...  ee_008  ee_009 ef_000 eg_000\n",
            "59995   neg  153002     na         664  ...  898642   28588      0      0\n",
            "59996   neg    2286     na  2130706538  ...       0       0      0      0\n",
            "59997   neg     112      0  2130706432  ...       0       0      0      0\n",
            "59998   neg   80292     na  2130706432  ...  802280  388422      0      0\n",
            "59999   neg   40222     na         698  ...  170384     158      0      0\n",
            "\n",
            "[5 rows x 171 columns]\n",
            "--------------------------------------------\n",
            "\n",
            "Data after converting class strings to numerical boolean values:\n",
            "\n",
            "   class  aa_000 ab_000      ac_000 ad_000  ...  ee_007  ee_008 ee_009 ef_000 eg_000\n",
            "0      0   76698    NaN  2130706438    280  ...  157956   73224      0      0      0\n",
            "1      0   33058    NaN           0    NaN  ...   81140   97576   1500      0      0\n",
            "2      0   41040    NaN         228    100  ...  158022   95128    514      0      0\n",
            "3      0      12      0          70     66  ...       0       0      0      4     32\n",
            "4      0   60874    NaN        1368    458  ...  311560  433954   1218      0      0\n",
            "\n",
            "[5 rows x 171 columns]\n",
            "       class  aa_000 ab_000      ac_000  ...  ee_008  ee_009 ef_000 eg_000\n",
            "59995      0  153002    NaN         664  ...  898642   28588      0      0\n",
            "59996      0    2286    NaN  2130706538  ...       0       0      0      0\n",
            "59997      0     112      0  2130706432  ...       0       0      0      0\n",
            "59998      0   80292    NaN  2130706432  ...  802280  388422      0      0\n",
            "59999      0   40222    NaN         698  ...  170384     158      0      0\n",
            "\n",
            "[5 rows x 171 columns]\n",
            "--------------------------------------------\n",
            "\n"
          ],
          "name": "stdout"
        }
      ]
    },
    {
      "cell_type": "code",
      "metadata": {
        "colab": {
          "base_uri": "https://localhost:8080/"
        },
        "id": "lYLq9RQqRpCz",
        "outputId": "d7da993b-5b4e-48ae-cfb4-2a13e92a522c"
      },
      "source": [
        "# Organizing/Cleaning Test Data\n",
        "aps_failure_test_set = \"aps_failure_test_set.csv\"\n",
        "test_df = pd.read_csv(aps_failure_test_set)\n",
        "\n",
        "# Print the head/tail of the data to make sure it was imported properly\n",
        "print(\"Original data before any changes were made:\\n\")\n",
        "print(test_df.head())\n",
        "print(test_df.tail())\n",
        "print(\"--------------------------------------------\\n\")\n",
        "\n",
        "# Replace 'na' values, which Pandas did not recognize as true NA values, with numpy \"NaN\" values\n",
        "# This allows the .isna method to work properly and, as a result, the .dropna method to work as well.\n",
        "test_df.replace('na', np.nan, inplace=True)\n",
        "\n",
        "# Replace \"neg\" and \"pos\" with corresponding boolean values\n",
        "test_df.replace('neg', 0, inplace=True)\n",
        "test_df.replace('pos', 1, inplace=True)\n",
        "\n",
        "# Print the head/tail of the data to confirm the changes\n",
        "print(\"Data after converting class strings to numerical boolean values:\\n\")\n",
        "print(test_df.head())\n",
        "print(test_df.tail())\n",
        "print(\"--------------------------------------------\\n\")"
      ],
      "execution_count": null,
      "outputs": [
        {
          "output_type": "stream",
          "text": [
            "Original data before any changes were made:\n",
            "\n",
            "  class  aa_000 ab_000 ac_000 ad_000  ...  ee_007  ee_008 ee_009 ef_000 eg_000\n",
            "0   neg      60      0     20     12  ...      88       0      0      0      0\n",
            "1   neg      82      0     68     40  ...     462       0      0      0      0\n",
            "2   neg   66002      2    212    112  ...  153680     516      0      0      0\n",
            "3   neg   59816     na   1010    936  ...  210074  281662   3232      0      0\n",
            "4   neg    1814     na    156    140  ...     482      76      0      0      0\n",
            "\n",
            "[5 rows x 171 columns]\n",
            "      class  aa_000 ab_000      ac_000  ...  ee_008 ee_009 ef_000 eg_000\n",
            "15995   neg   81852     na  2130706432  ...  960024  25566      0      0\n",
            "15996   neg      18      0          52  ...       0      0      0      0\n",
            "15997   neg   79636     na        1670  ...  358934  19548      0      0\n",
            "15998   neg     110     na          36  ...      74      0      0      0\n",
            "15999   neg       8      0           6  ...       0      0      0      0\n",
            "\n",
            "[5 rows x 171 columns]\n",
            "--------------------------------------------\n",
            "\n",
            "Data after converting class strings to numerical boolean values:\n",
            "\n",
            "   class  aa_000 ab_000 ac_000 ad_000  ...  ee_007  ee_008 ee_009 ef_000 eg_000\n",
            "0      0      60      0     20     12  ...      88       0      0      0      0\n",
            "1      0      82      0     68     40  ...     462       0      0      0      0\n",
            "2      0   66002      2    212    112  ...  153680     516      0      0      0\n",
            "3      0   59816    NaN   1010    936  ...  210074  281662   3232      0      0\n",
            "4      0    1814    NaN    156    140  ...     482      76      0      0      0\n",
            "\n",
            "[5 rows x 171 columns]\n",
            "       class  aa_000 ab_000      ac_000  ...  ee_008 ee_009 ef_000 eg_000\n",
            "15995      0   81852    NaN  2130706432  ...  960024  25566      0      0\n",
            "15996      0      18      0          52  ...       0      0      0      0\n",
            "15997      0   79636    NaN        1670  ...  358934  19548      0      0\n",
            "15998      0     110    NaN          36  ...      74      0      0      0\n",
            "15999      0       8      0           6  ...       0      0      0      0\n",
            "\n",
            "[5 rows x 171 columns]\n",
            "--------------------------------------------\n",
            "\n"
          ],
          "name": "stdout"
        }
      ]
    },
    {
      "cell_type": "code",
      "metadata": {
        "id": "TNOd5VHASriE"
      },
      "source": [
        "# Building the models\n",
        "y_train = train_df[\"class\"]\n",
        "X_train = train_df.drop(\"class\", axis = 1)\n",
        "y_test = test_df[\"class\"]\n",
        "X_test = test_df.drop(\"class\", axis = 1)"
      ],
      "execution_count": null,
      "outputs": []
    },
    {
      "cell_type": "code",
      "metadata": {
        "colab": {
          "base_uri": "https://localhost:8080/"
        },
        "id": "3FrBxintu4f_",
        "outputId": "add5e2bb-b6e2-4e0b-f24d-ff428b59d4da"
      },
      "source": [
        "# Building a training function for Random Forest Classification\n",
        "# Instead of dropping \"NaN\" values, we replace them with the imputed means of surrounding, similar values\n",
        "# If we were to simply drop the NaN values, we'd exclude roughly 99% of our datasets (~170 samples versus ~16000 for the test set)\n",
        "# We chose 42 as the random state since 42 is the answer to life, the universe, and everything\n",
        "# Pipeline is used to apply a variety of transforms such as filling NaN values with imputed means, SMOTE for balancing, \n",
        "# and RandomForestClassifier for classification\n",
        "# Final output is given by CalibratedClassifierCV function which utilizes the most ideal estimators\n",
        "\n",
        "def train(X: pd.DataFrame, y: pd.DataFrame):\n",
        "    impute_mean = SimpleImputer(missing_values = np.NaN, \n",
        "                            strategy = \"mean\")\n",
        "\n",
        "    smote = SMOTE(random_state = 42)\n",
        "\n",
        "    tuned_parameters = {\"Classifier__max_depth\": [2, 3, 5, 8, 10, 15, 20, 25, 30, 40, 50],\n",
        "                        \"Classifier__n_estimators\": [10, 20, 30, 35, 40, 50, 80, 100, 150, 200],\n",
        "                        \"Classifier__max_features\": ['auto', 'sqrt', 'log2'],\n",
        "                        \"Classifier__class_weight\": ['balanced', 'balanced_subsample', None]\n",
        "                        }\n",
        "    clf = RandomForestClassifier(n_jobs=-1, random_state = 42)\n",
        "\n",
        "    pipeline = Pipeline([(\"impute\", impute_mean),\n",
        "                         (\"SMOTE\", smote),\n",
        "                         (\"Classifier\", clf)])\n",
        "\n",
        "    model = RandomizedSearchCV(pipeline, tuned_parameters, cv=5, scoring=\"recall\", n_jobs=-1, n_iter=1)\n",
        "    model.fit(X, y)\n",
        "\n",
        "    calib = CalibratedClassifierCV(model.best_estimator_, cv=5, method = \"sigmoid\")\n",
        "    calib.fit(X, y)\n",
        "                          \n",
        "    return calib\n",
        " \n",
        "classifier = train(X_train, y_train)"
      ],
      "execution_count": null,
      "outputs": [
        {
          "output_type": "stream",
          "text": [
            "/usr/local/lib/python3.7/dist-packages/sklearn/utils/deprecation.py:87: FutureWarning: Function safe_indexing is deprecated; safe_indexing is deprecated in version 0.22 and will be removed in version 0.24.\n",
            "  warnings.warn(msg, category=FutureWarning)\n",
            "/usr/local/lib/python3.7/dist-packages/sklearn/utils/deprecation.py:87: FutureWarning: Function safe_indexing is deprecated; safe_indexing is deprecated in version 0.22 and will be removed in version 0.24.\n",
            "  warnings.warn(msg, category=FutureWarning)\n",
            "/usr/local/lib/python3.7/dist-packages/sklearn/utils/deprecation.py:87: FutureWarning: Function safe_indexing is deprecated; safe_indexing is deprecated in version 0.22 and will be removed in version 0.24.\n",
            "  warnings.warn(msg, category=FutureWarning)\n",
            "/usr/local/lib/python3.7/dist-packages/sklearn/utils/deprecation.py:87: FutureWarning: Function safe_indexing is deprecated; safe_indexing is deprecated in version 0.22 and will be removed in version 0.24.\n",
            "  warnings.warn(msg, category=FutureWarning)\n",
            "/usr/local/lib/python3.7/dist-packages/sklearn/utils/deprecation.py:87: FutureWarning: Function safe_indexing is deprecated; safe_indexing is deprecated in version 0.22 and will be removed in version 0.24.\n",
            "  warnings.warn(msg, category=FutureWarning)\n",
            "/usr/local/lib/python3.7/dist-packages/sklearn/utils/deprecation.py:87: FutureWarning: Function safe_indexing is deprecated; safe_indexing is deprecated in version 0.22 and will be removed in version 0.24.\n",
            "  warnings.warn(msg, category=FutureWarning)\n"
          ],
          "name": "stderr"
        }
      ]
    },
    {
      "cell_type": "code",
      "metadata": {
        "colab": {
          "base_uri": "https://localhost:8080/"
        },
        "id": "9gNneX7Z2gOZ",
        "outputId": "d226c2c7-fd30-4bb9-adc5-ac083967cee3"
      },
      "source": [
        "# Computing evaluation metrics\n",
        "y_pred = classifier.predict(X_test)\n",
        "precision = precision_score(y_test, y_pred)\n",
        "recall = recall_score(y_test, y_pred)\n",
        "f1 = f1_score(y_test, y_pred)\n",
        "print(f1)\n",
        "    \n",
        "# ROC curve and metrics\n",
        "fpr, tpr, thresholds = roc_curve(y_test, y_pred)\n",
        "roc_auc = auc(fpr, tpr)\n",
        "\n",
        "plt.figure()\n",
        "lw = 2 \n",
        "plt.plot(fpr, tpr, color = \"darkorange\", lw=lw, label=f\"ROC curve (area = {roc_auc})\")\n",
        "plt.plot([0, 1], [0, 1], color=\"navy\", lw=lw, linestyle=\"--\")\n",
        "plt.xlim(0.0, 1.0)\n",
        "plt.ylim(0.0, 1.05)\n",
        "plt.xlabel(\"False Positive Rate\")\n",
        "plt.ylabel(\"True Positive Rate\")\n",
        "plt.title(\"ROC Curve\")\n",
        "plt.legend(loc=\"lower right\")"
      ],
      "execution_count": null,
      "outputs": [
        {
          "output_type": "stream",
          "text": [
            "0.7639484978540771\n"
          ],
          "name": "stdout"
        },
        {
          "output_type": "execute_result",
          "data": {
            "text/plain": [
              "<matplotlib.legend.Legend at 0x7fdeb611f510>"
            ]
          },
          "metadata": {
            "tags": []
          },
          "execution_count": 8
        },
        {
          "output_type": "display_data",
          "data": {
            "image/png": "[encoded data removed]",
            "text/plain": [
              "<Figure size 432x288 with 1 Axes>"
            ]
          },
          "metadata": {
            "tags": [],
            "needs_background": "light"
          }
        }
      ]
    },
    {
      "cell_type": "code",
      "metadata": {
        "colab": {
          "base_uri": "https://localhost:8080/",
          "height": 350
        },
        "id": "nN7JWBpXbf6r",
        "outputId": "c1e0d92b-6a93-480e-f68a-5f6573685b7b"
      },
      "source": [
        "# Evaluating the confusion matrix\n",
        "from sklearn.metrics import plot_confusion_matrix\n",
        "confusion = confusion_matrix(y_test, y_pred)\n",
        "print(\"Confusion matrix:\\n{}\".format(confusion))\n",
        "plot_confusion_matrix(classifier, X_test, y_test)  \n",
        "plt.show()  \n",
        "print(f1)"
      ],
      "execution_count": null,
      "outputs": [
        {
          "output_type": "stream",
          "text": [
            "Confusion matrix:\n",
            "[[15568    57]\n",
            " [  108   267]]\n"
          ],
          "name": "stdout"
        },
        {
          "output_type": "display_data",
          "data": {
            "image/png": "[encoded data removed]",
            "text/plain": [
              "<Figure size 432x288 with 2 Axes>"
            ]
          },
          "metadata": {
            "tags": [],
            "needs_background": "light"
          }
        },
        {
          "output_type": "stream",
          "text": [
            "0.7639484978540771\n"
          ],
          "name": "stdout"
        }
      ]
    },
    {
      "cell_type": "code",
      "metadata": {
        "colab": {
          "base_uri": "https://localhost:8080/"
        },
        "id": "5Cym80suAnrW",
        "outputId": "e1ec850b-4d3a-4382-c2fb-5a025ea4cbee"
      },
      "source": [
        "# Simple KNN calculation\n",
        "# Accuracy is skewed since the dataset is drastically smaller with dropped NaN values instead of imputed NaN values\n",
        "# We did this for the sake of efficiency. I gave up on letting the code run its course after ~3 hours of runtime.\n",
        "train_df.dropna(inplace=True)\n",
        "test_df.dropna(inplace=True)\n",
        "\n",
        "y_train = train_df[\"class\"]\n",
        "X_train = train_df.drop(\"class\", axis = 1)\n",
        "y_test = test_df[\"class\"]\n",
        "X_test = test_df.drop(\"class\", axis = 1)\n",
        "\n",
        "knn = KNeighborsClassifier(n_neighbors=13)\n",
        "knn.fit(X_train, y_train)\n",
        "print(knn.score(X_test, y_test))"
      ],
      "execution_count": null,
      "outputs": [
        {
          "output_type": "stream",
          "text": [
            "0.8363636363636363\n"
          ],
          "name": "stdout"
        }
      ]
    }
  ]
}